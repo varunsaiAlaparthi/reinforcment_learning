{
  "nbformat": 4,
  "nbformat_minor": 0,
  "metadata": {
    "accelerator": "GPU",
    "colab": {
      "name": "double Deep q  chrome dino",
      "provenance": [],
      "include_colab_link": true
    },
    "kernelspec": {
      "display_name": "Python 3",
      "name": "python3"
    }
  },
  "cells": [
    {
      "cell_type": "markdown",
      "metadata": {
        "id": "view-in-github",
        "colab_type": "text"
      },
      "source": [
        "<a href=\"https://colab.research.google.com/github/varunsaiAlaparthi/reinforcment_learning/blob/main/double_Deep_q_chrome_dino.ipynb\" target=\"_parent\"><img src=\"https://colab.research.google.com/assets/colab-badge.svg\" alt=\"Open In Colab\"/></a>"
      ]
    },
    {
      "cell_type": "code",
      "metadata": {
        "id": "XxfPgzhfR6JC"
      },
      "source": [
        "import torch\n",
        "import torch.nn as nn\n",
        "\n",
        "import torch.nn.functional as F\n",
        "import torchvision\n",
        "import torchvision.transforms as transforms\n",
        "import matplotlib.pyplot as plt\n",
        "import numpy as np\n",
        "import gym\n",
        "from collections import namedtuple\n",
        "import random\n",
        "import matplotlib.pyplot as plt"
      ],
      "execution_count": null,
      "outputs": []
    },
    {
      "cell_type": "code",
      "metadata": {
        "id": "OJJraon3NSVI"
      },
      "source": [
        "!pip install selenium\n",
        "!apt-get update # to update ubuntu to correctly run apt install\n",
        "!apt install chromium-chromedriver\n",
        "!cp /usr/lib/chromium-browser/chromedriver /usr/bin\n"
      ],
      "execution_count": null,
      "outputs": []
    },
    {
      "cell_type": "code",
      "metadata": {
        "id": "Cn5dGzzwNV8B"
      },
      "source": [
        "pip install gym-chrome-dino"
      ],
      "execution_count": null,
      "outputs": []
    },
    {
      "cell_type": "code",
      "metadata": {
        "id": "gNTa1EjFTXLW"
      },
      "source": [
        "\n",
        "device = torch.device('cuda' if torch.cuda.is_available() else 'cpu')"
      ],
      "execution_count": null,
      "outputs": []
    },
    {
      "cell_type": "markdown",
      "source": [
        "**Abstract**\n",
        "\n",
        "I wrote this double deep q algoritham to train an RL agent to play the chrome dino game. I was initially using the normal DQN algorithm , but the training was very unstable , SO later I switched to Double Deep q networks. The entire pipeline is I have an image encoder which is a basic cnn, where I bundle 4 frames 1 current and 3 previous and encode it using CNN , after encoding the vector will be fed into the q network as a state , and the network assigns q values, for each state action pairs. The algorithms uses replay buffer to store the experience/episodes , state, action , reward and next state values. I have then random sampled experiences and trained the network again so that the agent doesn't forget past experiences, there's also priority replay buffers where episodes which have high q values - reward differences will be sampled first. As I am using double deep q networks, I am using 2 networks policy and a target network.\n",
        "\n",
        "I am also using epsilon - greedy strategy which is mostly common for RL algorithms which pushed the agents to explore more increasing the randomness in taking actions, once it's trained on all possibilties , we make the model exploit more with occasional exploration.\n",
        "\n",
        "Training :\n",
        "\n",
        "For each experience in the batch, the target Q-value is computed using the Double Q-Learning approach:\n",
        "\n",
        "The policy network is used to determine the action taking the argmax Q-value for the next state.\n",
        "\n",
        "The target network then evaluates the Q-value for that action to compute the target.\n",
        "\n",
        "The Q-Network is updated by minimizing the difference between the predicted Q-values and the computed target Q-values.\n",
        "\n",
        "The target network updates periodically using soft update, this is the main advantage which keeps the target stable.\n",
        "\n",
        "This is the demo that i got:\n",
        "https://www.youtube.com/watch?v=3nfH1JJUL0g"
      ],
      "metadata": {
        "id": "8NsgDDA6A0sl"
      }
    },
    {
      "cell_type": "code",
      "metadata": {
        "id": "uBOIC1WyN6SP"
      },
      "source": [
        "#Install the chrome dino packages for running the gym simulator\n",
        "import gym_chrome_dino\n",
        "from gym_chrome_dino.utils.wrappers import make_dino\n",
        "import cv2"
      ],
      "execution_count": null,
      "outputs": []
    },
    {
      "cell_type": "code",
      "metadata": {
        "id": "ldFqJU95TgYg"
      },
      "source": [
        "num_epochs=4\n",
        "alpha=1e-4\n",
        "batch_size=512"
      ],
      "execution_count": null,
      "outputs": []
    },
    {
      "cell_type": "code",
      "metadata": {
        "id": "u7kw-4cbj0Ed"
      },
      "source": [
        "#Creating a named tuple for storing the experience\n",
        "\n",
        "Experience = namedtuple('Experience',('state','action','next_state','reward','done'))"
      ],
      "execution_count": null,
      "outputs": []
    },
    {
      "cell_type": "code",
      "metadata": {
        "id": "VYW1OYWtkJDW"
      },
      "source": [
        "\n",
        "#This is the class that I am using for replaymemory, which has push which is called after every episode, and sample for creating mini\n",
        "#batches to train later on, This is fine as the q learning algorithms are off policy. can provide is just for a flag to check if there\n",
        "#are enough experiences.\n",
        "\n",
        "class replaymemory():\n",
        "  def __init__(self,capacity):\n",
        "    self.capacity=capacity\n",
        "    self.memory=[]\n",
        "    self.push_count=0\n",
        "\n",
        "  def push(self,experience):\n",
        "    if(self.push_count>self.capacity):\n",
        "      self.memory[self.push_count%self.capacity]=experience\n",
        "    else:\n",
        "      self.memory.append(experience)\n",
        "    self.push_count+=1\n",
        "\n",
        "\n",
        "  def sample(self,batch_size):\n",
        "    e=random.sample(self.memory,batch_size)\n",
        "    #print(type(e1.state))\n",
        "    states=torch.tensor([e1.state for e1 in e]).to(device)\n",
        "    actions=torch.tensor([e1.action for e1 in e]).to(device)\n",
        "    next=torch.tensor([e1.next_state for e1 in e]).to(device)\n",
        "    rewards = torch.tensor(([e1.reward for e1 in e])).to(device)\n",
        "    dones = torch.tensor([e1.done for e1 in e])\n",
        "\n",
        "    #states=states.view(64,1,80,160)\n",
        "    return states.float(),actions,next,rewards,dones\n",
        "\n",
        "  def can_provide(self,batch_size):\n",
        "    return len(self.memory)>=batch_size"
      ],
      "execution_count": null,
      "outputs": []
    },
    {
      "cell_type": "code",
      "metadata": {
        "id": "8zF_N2_Eqa4r"
      },
      "source": [
        "#I am just using this to create a 4 framed array, so that I can concatenate the latest 4 batched frames always\n",
        "\n",
        "class cstate():\n",
        "  def __init__(self,size):\n",
        "    self.size=size\n",
        "    self.states=[]\n",
        "    self.push_count=0\n",
        "  def push(self,state):\n",
        "    if self.push_count<self.size:\n",
        "      self.states.append(state)\n",
        "      self.push_count=self.push_count+1\n",
        "    else:\n",
        "      self.states.pop(0)\n",
        "      self.states.append(state)\n",
        "\n",
        "\n",
        "\n"
      ],
      "execution_count": null,
      "outputs": []
    },
    {
      "cell_type": "code",
      "metadata": {
        "id": "2qXV53iJoTi7"
      },
      "source": [
        "#This is the class for epsilon strategy , where with greedy which is used for exploitation , I am just using argmax to get the action\n",
        "# with the highest q value, where as for get_action depends on the epsilon value, here I am decaying it exponentially, so\n",
        "# in the inital phases it favours more of exploration and as episodes go on it favours more of exploitation.\n",
        "\n",
        "class eps_strat():\n",
        "  def __init__(self,num_actions,start,decay,end,device):\n",
        "    self.cur_step=0\n",
        "    self.num=num_actions\n",
        "    self.device=device\n",
        "    self.start=start\n",
        "    self.decay=decay\n",
        "    self.end=end\n",
        "  def get_action(self,policy,state,step):\n",
        "    self.cur_step=step\n",
        "    ep=self.end+(self.start-self.end) * np.exp(-1*self.cur_step*self.decay)\n",
        "    #self.cur_step=self.cur_step+1\n",
        "    #print(ep,self.cur_step)\n",
        "    if ep>random.random():\n",
        "      #print(\"NO\")\n",
        "      action=random.randrange(self.num)\n",
        "      return action\n",
        "    else:\n",
        "      policy.eval()\n",
        "      with torch.no_grad():\n",
        "        #print(\"yes\")\n",
        "        return torch.argmax(policy.forward(state)).item()\n",
        "  def get_value(self,step):\n",
        "    self.cur_step=step\n",
        "    ep=self.end+(self.start-self.end) * np.exp(-1*self.cur_step*self.decay)\n",
        "    return ep\n",
        "  def greedy(self,policy,state):\n",
        "    policy.eval()\n",
        "    with torch.no_grad():\n",
        "      return torch.argmax(policy.forward(state)).item()\n",
        "\n"
      ],
      "execution_count": null,
      "outputs": []
    },
    {
      "cell_type": "code",
      "metadata": {
        "id": "9PD3We0fVg26"
      },
      "source": [
        "#This is my convolutional network architecture\n",
        "\n",
        "class convnet(nn.Module):\n",
        "  def __init__(self):\n",
        "    super(convnet,self).__init__()\n",
        "    self.conv1= nn.Conv2d(4,32,8)\n",
        "    self.conv2 = nn.Conv2d(32,64,4)\n",
        "    self.conv3=nn.Conv2d(64,64,3)\n",
        "    self.fc1=nn.Linear(64*68*68,512)\n",
        "    self.fc2=nn.Linear(512,64)\n",
        "    self.fc3=nn.Linear(64,2)\n",
        "\n",
        "  def forward(self,x):\n",
        "    out=F.relu(self.conv1(x))\n",
        "    out=F.relu(self.conv2(out))\n",
        "    out=F.relu(self.conv3(out))\n",
        "    out = out.view(-1,64*68*68)\n",
        "    out=F.relu(self.fc1(out))\n",
        "    out=F.relu(self.fc2(out))\n",
        "    out=self.fc3(out)\n",
        "    return out"
      ],
      "execution_count": null,
      "outputs": []
    },
    {
      "cell_type": "code",
      "metadata": {
        "id": "ikmS_kL9fzM-"
      },
      "source": [
        "class lin(nn.Module):\n",
        "  def __init__(self):\n",
        "    super(lin,self).__init__()\n",
        "    self.fc1=nn.Linear(2,128)\n",
        "    self.fc2=nn.Linear(128,64)\n",
        "    self.fc3=nn.Linear(64,2)\n",
        "  def forward(self,x):\n",
        "    out=F.relu(self.fc1(x))\n",
        "    out=F.relu(self.fc2(out))\n",
        "    out=self.fc3(out)\n",
        "    return out"
      ],
      "execution_count": null,
      "outputs": []
    },
    {
      "cell_type": "code",
      "metadata": {
        "id": "Mwisq_kgJK3g"
      },
      "source": [
        "# This is the duelling netowork that I wanted to try out, as there are claims that duelling networks works better than double dqn.\n",
        "class duelling(nn.Module):\n",
        "  def __init__(self,num_actions):\n",
        "    super(duelling,self).__init__()\n",
        "    self.a = num_actions\n",
        "    self.conv1 = nn.Conv2d(4,32,8)\n",
        "    self.conv2 =nn.Conv2d(32,64,4)\n",
        "    self.conv3 = nn.Conv2d(64,64,3)\n",
        "    self.fc1_value = nn.Linear(64*68*68,512)\n",
        "    self.fc2_value = nn.Linear(512,64)\n",
        "    self.fc3_value = nn.Linear(64,1)\n",
        "    self.fc1_adv = nn.Linear(64*68*68,512)\n",
        "    self.fc2_adv = nn.Linear(512,64)\n",
        "    self.fc3_adv = nn.Linear(64,self.x)\n",
        "  def forward(self,x):\n",
        "    out=F.relu(self.conv1(x))\n",
        "    out = F.relu(self.conv2(out))\n",
        "    out = F.relu(self.conv3(out))\n",
        "    out = out.view(-1,64*68*68)\n",
        "    state_value = F.relu(self.fc1_value(out))\n",
        "    state_value = F.relu(self.fc2_value(state_value))\n",
        "    state_value = self.fc3_value(state_value)\n",
        "    advantage = F.relu(self.fc1_adv(out))\n",
        "    advantage = F.relu(self.fc2_adv(advantage))\n",
        "    advantage = self.fc3_adv(advantage)\n",
        "\n",
        "    return state_value+advantage-torch.mean(advantage)\n",
        "\n"
      ],
      "execution_count": null,
      "outputs": []
    },
    {
      "cell_type": "code",
      "metadata": {
        "id": "KA3iVOYIbmMS"
      },
      "source": [
        "#This is the function that I am using to update the target network , soft update\n",
        "\n",
        "def soft_update(local,target,t):\n",
        "  for target_param,local_param in zip(target.parameters(),local.parameters()):\n",
        "    target_param.data.copy_(t*local_param.data+(1-t)*target_param.data)"
      ],
      "execution_count": null,
      "outputs": []
    },
    {
      "cell_type": "code",
      "metadata": {
        "id": "LuLVQfVrbXC1"
      },
      "source": [
        "#Initialising the target net and policy network and making them start with the same weights for stability reasons\n",
        "\n",
        "target_net = convnet().to(device)\n",
        "policy=convnet().to(device)\n",
        "soft_update(policy,target_net,1)\n",
        "\n",
        "\n",
        "\n"
      ],
      "execution_count": null,
      "outputs": []
    },
    {
      "cell_type": "code",
      "metadata": {
        "id": "FmSFAB_HcLUs"
      },
      "source": [
        "num_episodes=1000000\n",
        "from PIL import Image"
      ],
      "execution_count": null,
      "outputs": []
    },
    {
      "cell_type": "code",
      "metadata": {
        "id": "nf0d1VtZR45N"
      },
      "source": [
        "#converting the image frames by doing pre processing.\n",
        "\n",
        "def convert1(observation):\n",
        "  cv2_imshow(np.array(observation))\n",
        "  ob=torch.tensor(observation)\n",
        "  ob=ob.view(4,80,160)\n",
        "  ob=ob.numpy()\n",
        "\n",
        "  f_ob=[]\n",
        "  for i in range(4):\n",
        "    l=ob[i]\n",
        "    cv2_imshow(l)\n",
        "    print(\"wtf\")\n",
        "    im = Image.fromarray(l)\n",
        "\n",
        "    f_ob.append(np.asarray(im.resize((80,80))))\n",
        "\n",
        "  f_ob=np.array(f_ob)\n",
        "\n",
        "  ob=torch.tensor([f_ob]).to(torch.float)\n",
        "  ob=ob.view(-1,4,80,80)\n",
        "  return ob"
      ],
      "execution_count": null,
      "outputs": []
    },
    {
      "cell_type": "code",
      "metadata": {
        "id": "jp9VzepzWgCn"
      },
      "source": [
        "#initialising memory replay with 10000 capacity\n",
        "mem=replaymemory(10000)"
      ],
      "execution_count": null,
      "outputs": []
    },
    {
      "cell_type": "code",
      "metadata": {
        "id": "bzSoL5Q6pff4"
      },
      "source": [
        "from PIL import Image\n",
        "def convert(observation):\n",
        "  ob=np.array(observation,dtype=\"float32\")\n",
        "  #print(ob.shape)\n",
        "\n",
        "  ob=cv2.cvtColor(ob,cv2.COLOR_BGR2GRAY)\n",
        "  im = Image.fromarray(ob)\n",
        "  ob = np.asarray(im.resize((80,80)))\n",
        "\n",
        "\n",
        "  return ob"
      ],
      "execution_count": null,
      "outputs": []
    },
    {
      "cell_type": "code",
      "metadata": {
        "colab": {
          "base_uri": "https://localhost:8080/"
        },
        "id": "bnnILOBfd-iv",
        "outputId": "c28ef0c7-2de2-42f6-9089-9c7b54f64a92"
      },
      "source": [
        "#Creating and intialising the gym environment and pushing the first 4 frames into the stack and initialising other parameters required.\n",
        "env = gym.make('ChromeDino-v0')\n",
        "from google.colab.patches import cv2_imshow\n",
        "\n",
        "ob=env.reset()\n",
        "done_1=False\n",
        "ob=convert(ob)\n",
        "\n",
        "print(ob.shape)\n",
        "stack=cstate(4)\n",
        "\n",
        "stack.push(ob)\n",
        "stack.push(ob)\n",
        "stack.push(ob)\n",
        "stack.push(ob)\n",
        "\n",
        "a2=torch.tensor([stack.states])\n",
        "\n",
        "a= nn.Conv2d(4,32,8)\n",
        "b = nn.Conv2d(32,64,4)\n",
        "c=nn.Conv2d(64,64,3)\n",
        "out=a(a2)\n",
        "out=b(torch.tensor(out))\n",
        "out=c(torch.tensor(out))\n",
        "print(out.shape)\n",
        "#env=env.unwrapped\n",
        "state=env.reset()\n",
        "reward_sum=0\n",
        "gamma=torch.tensor(0.999)\n",
        "\n",
        "start=1\n",
        "end=0.00001\n",
        "decay=0.1\n",
        "#decay=0.1\n",
        "\n",
        "#tau for soft update\n",
        "\n",
        "tau=0.89\n",
        "\n",
        "t_decay=eps_strat(2,0.9,0.01,0.001,device)\n",
        "print(tau)"
      ],
      "execution_count": null,
      "outputs": [
        {
          "output_type": "stream",
          "text": [
            "(80, 80)\n",
            "torch.Size([1, 64, 68, 68])\n",
            "0.89\n"
          ],
          "name": "stdout"
        },
        {
          "output_type": "stream",
          "text": [
            "/usr/local/lib/python3.7/dist-packages/ipykernel_launcher.py:24: UserWarning: To copy construct from a tensor, it is recommended to use sourceTensor.clone().detach() or sourceTensor.clone().detach().requires_grad_(True), rather than torch.tensor(sourceTensor).\n",
            "/usr/local/lib/python3.7/dist-packages/ipykernel_launcher.py:25: UserWarning: To copy construct from a tensor, it is recommended to use sourceTensor.clone().detach() or sourceTensor.clone().detach().requires_grad_(True), rather than torch.tensor(sourceTensor).\n"
          ],
          "name": "stderr"
        }
      ]
    },
    {
      "cell_type": "code",
      "metadata": {
        "colab": {
          "base_uri": "https://localhost:8080/"
        },
        "id": "Vvrx1bPnywVL",
        "outputId": "5ce53875-7099-4301-9c1d-dcea04379f39"
      },
      "source": [
        "FILE='/content/drive/MyDrive/chrome_dino/target_net_dino_3.pth'\n",
        "File='/content/drive/MyDrive/chrome_dino/model_dino_3.pth'\n",
        "from IPython.display import clear_output\n",
        "#model.load_state_dict(torch.load(file_path))\n",
        "target_net.load_state_dict(torch.load(FILE))\n",
        "policy.load_state_dict(torch.load(File))"
      ],
      "execution_count": null,
      "outputs": [
        {
          "output_type": "execute_result",
          "data": {
            "text/plain": [
              "<All keys matched successfully>"
            ]
          },
          "metadata": {
            "tags": []
          },
          "execution_count": 114
        }
      ]
    },
    {
      "cell_type": "markdown",
      "metadata": {
        "id": "ZwkhNoEPvCnt"
      },
      "source": []
    },
    {
      "cell_type": "code",
      "metadata": {
        "id": "81rvjChAd2j6",
        "colab": {
          "base_uri": "https://localhost:8080/",
          "height": 961
        },
        "outputId": "4e073073-7b43-40cf-8afd-8820cb8f5e86"
      },
      "source": [
        "import cv2\n",
        "height=720\n",
        "width=1200\n",
        "fps=10\n",
        "fourcc = cv2.VideoWriter_fourcc(*'mp4v')  # Setting up video encoding format\n",
        "\n",
        "FILE='/content/drive/MyDrive/chrome_dino/target_net_dino_5.pth'  # File path for saving target network\n",
        "File='/content/drive/MyDrive/chrome_dino/model_dino_5.pth'       # File path for saving policy network\n",
        "step=0\n",
        "step_1=0\n",
        "eps=0\n",
        "lo=[]  # list to store loss values for plotting\n",
        "re=[]  # list to store rewards for plotting\n",
        "video=[]\n",
        "video_ep=[]  # List to store video frames for the current episode\n",
        "max_rew=0  # keeping track track of the max reward\n",
        "\n",
        "for eps in range(num_episodes):  # Training loop over a specified number of episodes\n",
        "\n",
        "    reward_sum=0  # initi total reward for the current episode\n",
        "    state=env.reset()  # Reseteting the environment\n",
        "    state=convert(state)\n",
        "\n",
        "    done_1=False  # flag to check if the current episode is done\n",
        "    video_ep=[]\n",
        "    while not done_1:  # Loop until the episode ends\n",
        "        step=step+1\n",
        "        ep=eps_strat(2, start, decay, end, device)  # Create epsilon-greedy strategy for exploration-exploitation\n",
        "\n",
        "        # Get the current state stack and reshape it for the network\n",
        "        a2=torch.tensor(stack.states)\n",
        "        a2=a2.view(1,4,80,80)\n",
        "        action= ep.get_action(policy, a2.float().to(device), step)  # Select an action based on epsilon-greedy policy\n",
        "\n",
        "        next_state, reward, done_1, info = env.step(action)  # Take the action in the environment\n",
        "        video_ep.append(next_state)  # Add frame to current episode video frames\n",
        "\n",
        "        next_state=convert(next_state)\n",
        "        stack.push(next_state)  # Push the new state onto the state stack\n",
        "        a3=torch.tensor(stack.states)\n",
        "        a3=a3.view(1,4,80,80)\n",
        "\n",
        "        reward = 1\n",
        "\n",
        "        if done_1:\n",
        "            reward = -10  # Setting reward to -10 for game over, as the agent died\n",
        "\n",
        "        # storing the experience in the replay memory\n",
        "        e1 = Experience(a2.numpy(), action, a3.numpy(), reward, done_1)\n",
        "        mem.push(e1)\n",
        "\n",
        "        reward_sum += reward  # accumulate the rewards for this episode\n",
        "        state = next_state  #update to nest state\n",
        "\n",
        "    if max_rew < reward_sum:\n",
        "        max_rew = reward_sum\n",
        "        video = video_ep.copy()\n",
        "\n",
        "    re.append(reward_sum)  # Track rewards for plotting\n",
        "    print(eps, reward_sum)\n",
        "\n",
        "    if mem.can_provide(64):  # If enough experiences are in the replay buffer, start training\n",
        "        epochs = 10\n",
        "        for i in range(epochs):\n",
        "            states_1, actions, next_states, rewards, done = mem.sample(64)  # Sample a mini-batch of experiences\n",
        "\n",
        "            # Reshape the sampled states for the network\n",
        "            states_1 = states_1.view(64, 4, 80, 80)\n",
        "            next_states = next_states.view(64, 4, 80, 80)\n",
        "\n",
        "            # Calculate the expected Q values using the policy network\n",
        "            ex = policy.forward(next_states.float()).detach().cpu().numpy().tolist()\n",
        "            target_q = target_net.forward(next_states.float()).detach().cpu().numpy()\n",
        "            j = [t.index(max(t)) for t in ex]  # Get the action indices with the highest Q-values\n",
        "\n",
        "            # Select the target Q-values corresponding to the best actions\n",
        "            target_q = torch.tensor([target_q[i][j[i]] for i in range(len(j))]).to(device).detach()\n",
        "\n",
        "            done = done.int().to(device)\n",
        "            q = (rewards + gamma * (target_q * (1 - done))).detach()  # Calculate the target Q-values\n",
        "            q = q.unsqueeze(1)\n",
        "            l = torch.tensor([actions[i] for i in range(64)]).to(device)\n",
        "            l = l.unsqueeze(1)\n",
        "\n",
        "            # Calculate the loss between the predicted Q-values and the target Q-values\n",
        "            exp_q = policy.forward(states_1.float()).gather(-1, l)\n",
        "            loss = nn.MSELoss()\n",
        "            tr = loss(exp_q, q)\n",
        "            lo.append(tr)  # Track loss for plotting\n",
        "\n",
        "            # Perform a gradient descent step\n",
        "            optimizer = torch.optim.Adam(policy.parameters(), lr=alpha)\n",
        "            optimizer.zero_grad()\n",
        "            tr.backward()\n",
        "            optimizer.step()\n",
        "\n",
        "    if eps % 100 == 0:  # Every 100 episodes, update the target network and plot training metrics\n",
        "        soft_update(policy, target_net, 1)\n",
        "        episodes = range(len(lo))\n",
        "        epi = range(len(re))\n",
        "        plt.plot(episodes, lo, 'g', label='loss')\n",
        "        plt.xlabel('episodes')\n",
        "        plt.ylabel('Loss')\n",
        "        plt.legend()\n",
        "        plt.show()\n",
        "        plt.plot(epi, re, 'g', label='rewards')\n",
        "        plt.xlabel('episodes')\n",
        "        plt.ylabel('rewards')\n",
        "        plt.legend()\n",
        "        plt.show()\n",
        "\n",
        "    if eps % 50 == 0:  # Save the model weights and best video frames every 50 episodes\n",
        "        torch.save(target_net.state_dict(), FILE)\n",
        "        torch.save(policy.state_dict(), File)\n",
        "        print(\"Weights saved\")\n",
        "        np.save('dino', np.array(video))\n"
      ],
      "execution_count": null,
      "outputs": [
        {
          "output_type": "stream",
          "text": [
            "0 27\n"
          ],
          "name": "stdout"
        },
        {
          "output_type": "display_data",
          "data": {
            "image/png": "[encoded data removed]",
            "text/plain": [
              "<Figure size 432x288 with 1 Axes>"
            ]
          },
          "metadata": {
            "tags": [],
            "needs_background": "light"
          }
        },
        {
          "output_type": "display_data",
          "data": {
            "image/png": "[encoded data removed]",
            "text/plain": [
              "<Figure size 432x288 with 1 Axes>"
            ]
          },
          "metadata": {
            "tags": [],
            "needs_background": "light"
          }
        },
        {
          "output_type": "stream",
          "text": [
            "Weights saved\n",
            "1 3115\n",
            "2 319\n"
          ],
          "name": "stdout"
        },
        {
          "output_type": "error",
          "ename": "KeyboardInterrupt",
          "evalue": "ignored",
          "traceback": [
            "\u001b[0;31m---------------------------------------------------------------------------\u001b[0m",
            "\u001b[0;31mKeyboardInterrupt\u001b[0m                         Traceback (most recent call last)",
            "\u001b[0;32m<ipython-input-115-ae600cf9c877>\u001b[0m in \u001b[0;36m<module>\u001b[0;34m()\u001b[0m\n\u001b[1;32m     37\u001b[0m     \u001b[0;31m#print(action)\u001b[0m\u001b[0;34m\u001b[0m\u001b[0;34m\u001b[0m\u001b[0;34m\u001b[0m\u001b[0m\n\u001b[1;32m     38\u001b[0m \u001b[0;34m\u001b[0m\u001b[0m\n\u001b[0;32m---> 39\u001b[0;31m     \u001b[0mnext_state\u001b[0m\u001b[0;34m,\u001b[0m\u001b[0mreward\u001b[0m\u001b[0;34m,\u001b[0m\u001b[0mdone_1\u001b[0m\u001b[0;34m,\u001b[0m\u001b[0minfo\u001b[0m\u001b[0;34m=\u001b[0m\u001b[0menv\u001b[0m\u001b[0;34m.\u001b[0m\u001b[0mstep\u001b[0m\u001b[0;34m(\u001b[0m\u001b[0maction\u001b[0m\u001b[0;34m)\u001b[0m\u001b[0;34m\u001b[0m\u001b[0;34m\u001b[0m\u001b[0m\n\u001b[0m\u001b[1;32m     40\u001b[0m     \u001b[0;31m#cv2_imshow(next_state)\u001b[0m\u001b[0;34m\u001b[0m\u001b[0;34m\u001b[0m\u001b[0;34m\u001b[0m\u001b[0m\n\u001b[1;32m     41\u001b[0m     \u001b[0;31m#time.sleep(0.5)\u001b[0m\u001b[0;34m\u001b[0m\u001b[0;34m\u001b[0m\u001b[0;34m\u001b[0m\u001b[0m\n",
            "\u001b[0;32m/usr/local/lib/python3.7/dist-packages/gym_chrome_dino/envs/chrome_dino_env.py\u001b[0m in \u001b[0;36mstep\u001b[0;34m(self, action)\u001b[0m\n\u001b[1;32m     50\u001b[0m         \u001b[0;32mif\u001b[0m \u001b[0maction\u001b[0m \u001b[0;34m==\u001b[0m \u001b[0;36m3\u001b[0m\u001b[0;34m:\u001b[0m\u001b[0;34m\u001b[0m\u001b[0;34m\u001b[0m\u001b[0m\n\u001b[1;32m     51\u001b[0m             \u001b[0mself\u001b[0m\u001b[0;34m.\u001b[0m\u001b[0mgame\u001b[0m\u001b[0;34m.\u001b[0m\u001b[0mpress_space\u001b[0m\u001b[0;34m(\u001b[0m\u001b[0;34m)\u001b[0m\u001b[0;34m\u001b[0m\u001b[0;34m\u001b[0m\u001b[0m\n\u001b[0;32m---> 52\u001b[0;31m         \u001b[0mobservation\u001b[0m \u001b[0;34m=\u001b[0m \u001b[0mself\u001b[0m\u001b[0;34m.\u001b[0m\u001b[0m_observe\u001b[0m\u001b[0;34m(\u001b[0m\u001b[0;34m)\u001b[0m\u001b[0;34m\u001b[0m\u001b[0;34m\u001b[0m\u001b[0m\n\u001b[0m\u001b[1;32m     53\u001b[0m         \u001b[0mreward\u001b[0m \u001b[0;34m=\u001b[0m \u001b[0mself\u001b[0m\u001b[0;34m.\u001b[0m\u001b[0mgametime_reward\u001b[0m\u001b[0;34m\u001b[0m\u001b[0;34m\u001b[0m\u001b[0m\n\u001b[1;32m     54\u001b[0m         \u001b[0mdone\u001b[0m \u001b[0;34m=\u001b[0m \u001b[0;32mFalse\u001b[0m\u001b[0;34m\u001b[0m\u001b[0;34m\u001b[0m\u001b[0m\n",
            "\u001b[0;32m/usr/local/lib/python3.7/dist-packages/gym_chrome_dino/envs/chrome_dino_env.py\u001b[0m in \u001b[0;36m_observe\u001b[0;34m(self)\u001b[0m\n\u001b[1;32m     38\u001b[0m         \u001b[0mb\u001b[0m \u001b[0;34m=\u001b[0m \u001b[0mio\u001b[0m\u001b[0;34m.\u001b[0m\u001b[0mBytesIO\u001b[0m\u001b[0;34m(\u001b[0m\u001b[0mbase64\u001b[0m\u001b[0;34m.\u001b[0m\u001b[0mb64decode\u001b[0m\u001b[0;34m(\u001b[0m\u001b[0ms\u001b[0m\u001b[0;34m)\u001b[0m\u001b[0;34m)\u001b[0m\u001b[0;34m\u001b[0m\u001b[0;34m\u001b[0m\u001b[0m\n\u001b[1;32m     39\u001b[0m         \u001b[0mi\u001b[0m \u001b[0;34m=\u001b[0m \u001b[0mImage\u001b[0m\u001b[0;34m.\u001b[0m\u001b[0mopen\u001b[0m\u001b[0;34m(\u001b[0m\u001b[0mb\u001b[0m\u001b[0;34m)\u001b[0m\u001b[0;34m\u001b[0m\u001b[0;34m\u001b[0m\u001b[0m\n\u001b[0;32m---> 40\u001b[0;31m         \u001b[0mi\u001b[0m \u001b[0;34m=\u001b[0m \u001b[0mrgba2rgb\u001b[0m\u001b[0;34m(\u001b[0m\u001b[0mi\u001b[0m\u001b[0;34m)\u001b[0m\u001b[0;34m\u001b[0m\u001b[0;34m\u001b[0m\u001b[0m\n\u001b[0m\u001b[1;32m     41\u001b[0m         \u001b[0ma\u001b[0m \u001b[0;34m=\u001b[0m \u001b[0mnp\u001b[0m\u001b[0;34m.\u001b[0m\u001b[0marray\u001b[0m\u001b[0;34m(\u001b[0m\u001b[0mi\u001b[0m\u001b[0;34m)\u001b[0m\u001b[0;34m\u001b[0m\u001b[0;34m\u001b[0m\u001b[0m\n\u001b[1;32m     42\u001b[0m         \u001b[0mself\u001b[0m\u001b[0;34m.\u001b[0m\u001b[0mcurrent_frame\u001b[0m \u001b[0;34m=\u001b[0m \u001b[0ma\u001b[0m\u001b[0;34m\u001b[0m\u001b[0;34m\u001b[0m\u001b[0m\n",
            "\u001b[0;32m/usr/local/lib/python3.7/dist-packages/gym_chrome_dino/utils/helpers.py\u001b[0m in \u001b[0;36mrgba2rgb\u001b[0;34m(im)\u001b[0m\n\u001b[1;32m      8\u001b[0m     \u001b[0;32mfrom\u001b[0m \u001b[0mPIL\u001b[0m \u001b[0;32mimport\u001b[0m \u001b[0mImage\u001b[0m\u001b[0;34m\u001b[0m\u001b[0;34m\u001b[0m\u001b[0m\n\u001b[1;32m      9\u001b[0m     \u001b[0mbg\u001b[0m \u001b[0;34m=\u001b[0m \u001b[0mImage\u001b[0m\u001b[0;34m.\u001b[0m\u001b[0mnew\u001b[0m\u001b[0;34m(\u001b[0m\u001b[0;34m\"RGB\"\u001b[0m\u001b[0;34m,\u001b[0m \u001b[0mim\u001b[0m\u001b[0;34m.\u001b[0m\u001b[0msize\u001b[0m\u001b[0;34m,\u001b[0m \u001b[0;34m(\u001b[0m\u001b[0;36m255\u001b[0m\u001b[0;34m,\u001b[0m \u001b[0;36m255\u001b[0m\u001b[0;34m,\u001b[0m \u001b[0;36m255\u001b[0m\u001b[0;34m)\u001b[0m\u001b[0;34m)\u001b[0m  \u001b[0;31m# fill background as white color\u001b[0m\u001b[0;34m\u001b[0m\u001b[0;34m\u001b[0m\u001b[0m\n\u001b[0;32m---> 10\u001b[0;31m     \u001b[0mbg\u001b[0m\u001b[0;34m.\u001b[0m\u001b[0mpaste\u001b[0m\u001b[0;34m(\u001b[0m\u001b[0mim\u001b[0m\u001b[0;34m,\u001b[0m \u001b[0mmask\u001b[0m\u001b[0;34m=\u001b[0m\u001b[0mim\u001b[0m\u001b[0;34m.\u001b[0m\u001b[0msplit\u001b[0m\u001b[0;34m(\u001b[0m\u001b[0;34m)\u001b[0m\u001b[0;34m[\u001b[0m\u001b[0;36m3\u001b[0m\u001b[0;34m]\u001b[0m\u001b[0;34m)\u001b[0m  \u001b[0;31m# 3 is the alpha channel\u001b[0m\u001b[0;34m\u001b[0m\u001b[0;34m\u001b[0m\u001b[0m\n\u001b[0m\u001b[1;32m     11\u001b[0m     \u001b[0;32mreturn\u001b[0m \u001b[0mbg\u001b[0m\u001b[0;34m\u001b[0m\u001b[0;34m\u001b[0m\u001b[0m\n\u001b[1;32m     12\u001b[0m \u001b[0;34m\u001b[0m\u001b[0m\n",
            "\u001b[0;32m/usr/local/lib/python3.7/dist-packages/PIL/Image.py\u001b[0m in \u001b[0;36msplit\u001b[0;34m(self)\u001b[0m\n\u001b[1;32m   2192\u001b[0m         \"\"\"\n\u001b[1;32m   2193\u001b[0m \u001b[0;34m\u001b[0m\u001b[0m\n\u001b[0;32m-> 2194\u001b[0;31m         \u001b[0mself\u001b[0m\u001b[0;34m.\u001b[0m\u001b[0mload\u001b[0m\u001b[0;34m(\u001b[0m\u001b[0;34m)\u001b[0m\u001b[0;34m\u001b[0m\u001b[0;34m\u001b[0m\u001b[0m\n\u001b[0m\u001b[1;32m   2195\u001b[0m         \u001b[0;32mif\u001b[0m \u001b[0mself\u001b[0m\u001b[0;34m.\u001b[0m\u001b[0mim\u001b[0m\u001b[0;34m.\u001b[0m\u001b[0mbands\u001b[0m \u001b[0;34m==\u001b[0m \u001b[0;36m1\u001b[0m\u001b[0;34m:\u001b[0m\u001b[0;34m\u001b[0m\u001b[0;34m\u001b[0m\u001b[0m\n\u001b[1;32m   2196\u001b[0m             \u001b[0mims\u001b[0m \u001b[0;34m=\u001b[0m \u001b[0;34m[\u001b[0m\u001b[0mself\u001b[0m\u001b[0;34m.\u001b[0m\u001b[0mcopy\u001b[0m\u001b[0;34m(\u001b[0m\u001b[0;34m)\u001b[0m\u001b[0;34m]\u001b[0m\u001b[0;34m\u001b[0m\u001b[0;34m\u001b[0m\u001b[0m\n",
            "\u001b[0;32m/usr/local/lib/python3.7/dist-packages/PIL/ImageFile.py\u001b[0m in \u001b[0;36mload\u001b[0;34m(self)\u001b[0m\n\u001b[1;32m    260\u001b[0m         \u001b[0mself\u001b[0m\u001b[0;34m.\u001b[0m\u001b[0mreadonly\u001b[0m \u001b[0;34m=\u001b[0m \u001b[0mreadonly\u001b[0m\u001b[0;34m\u001b[0m\u001b[0;34m\u001b[0m\u001b[0m\n\u001b[1;32m    261\u001b[0m \u001b[0;34m\u001b[0m\u001b[0m\n\u001b[0;32m--> 262\u001b[0;31m         \u001b[0mself\u001b[0m\u001b[0;34m.\u001b[0m\u001b[0mload_end\u001b[0m\u001b[0;34m(\u001b[0m\u001b[0;34m)\u001b[0m\u001b[0;34m\u001b[0m\u001b[0;34m\u001b[0m\u001b[0m\n\u001b[0m\u001b[1;32m    263\u001b[0m \u001b[0;34m\u001b[0m\u001b[0m\n\u001b[1;32m    264\u001b[0m         \u001b[0;32mif\u001b[0m \u001b[0mself\u001b[0m\u001b[0;34m.\u001b[0m\u001b[0m_exclusive_fp\u001b[0m \u001b[0;32mand\u001b[0m \u001b[0mself\u001b[0m\u001b[0;34m.\u001b[0m\u001b[0m_close_exclusive_fp_after_loading\u001b[0m\u001b[0;34m:\u001b[0m\u001b[0;34m\u001b[0m\u001b[0;34m\u001b[0m\u001b[0m\n",
            "\u001b[0;32m/usr/local/lib/python3.7/dist-packages/PIL/PngImagePlugin.py\u001b[0m in \u001b[0;36mload_end\u001b[0;34m(self)\u001b[0m\n\u001b[1;32m    890\u001b[0m                 \u001b[0mlogger\u001b[0m\u001b[0;34m.\u001b[0m\u001b[0mdebug\u001b[0m\u001b[0;34m(\u001b[0m\u001b[0;34m\"%r %s %s (unknown)\"\u001b[0m\u001b[0;34m,\u001b[0m \u001b[0mcid\u001b[0m\u001b[0;34m,\u001b[0m \u001b[0mpos\u001b[0m\u001b[0;34m,\u001b[0m \u001b[0mlength\u001b[0m\u001b[0;34m)\u001b[0m\u001b[0;34m\u001b[0m\u001b[0;34m\u001b[0m\u001b[0m\n\u001b[1;32m    891\u001b[0m                 \u001b[0mImageFile\u001b[0m\u001b[0;34m.\u001b[0m\u001b[0m_safe_read\u001b[0m\u001b[0;34m(\u001b[0m\u001b[0mself\u001b[0m\u001b[0;34m.\u001b[0m\u001b[0mfp\u001b[0m\u001b[0;34m,\u001b[0m \u001b[0mlength\u001b[0m\u001b[0;34m)\u001b[0m\u001b[0;34m\u001b[0m\u001b[0;34m\u001b[0m\u001b[0m\n\u001b[0;32m--> 892\u001b[0;31m         \u001b[0mself\u001b[0m\u001b[0;34m.\u001b[0m\u001b[0m_text\u001b[0m \u001b[0;34m=\u001b[0m \u001b[0mself\u001b[0m\u001b[0;34m.\u001b[0m\u001b[0mpng\u001b[0m\u001b[0;34m.\u001b[0m\u001b[0mim_text\u001b[0m\u001b[0;34m\u001b[0m\u001b[0;34m\u001b[0m\u001b[0m\n\u001b[0m\u001b[1;32m    893\u001b[0m         \u001b[0;32mif\u001b[0m \u001b[0;32mnot\u001b[0m \u001b[0mself\u001b[0m\u001b[0;34m.\u001b[0m\u001b[0mis_animated\u001b[0m\u001b[0;34m:\u001b[0m\u001b[0;34m\u001b[0m\u001b[0;34m\u001b[0m\u001b[0m\n\u001b[1;32m    894\u001b[0m             \u001b[0mself\u001b[0m\u001b[0;34m.\u001b[0m\u001b[0mpng\u001b[0m\u001b[0;34m.\u001b[0m\u001b[0mclose\u001b[0m\u001b[0;34m(\u001b[0m\u001b[0;34m)\u001b[0m\u001b[0;34m\u001b[0m\u001b[0;34m\u001b[0m\u001b[0m\n",
            "\u001b[0;31mKeyboardInterrupt\u001b[0m: "
          ]
        }
      ]
    },
    {
      "cell_type": "code",
      "metadata": {
        "id": "7ocQIkIX_IXV"
      },
      "source": [
        "for i in video:\n",
        "  cv2_imshow(i)\n",
        "  time.sleep(0.07)\n",
        "  clear_output()\n",
        ""
      ],
      "execution_count": null,
      "outputs": []
    },
    {
      "cell_type": "code",
      "metadata": {
        "colab": {
          "base_uri": "https://localhost:8080/",
          "height": 128
        },
        "id": "lenNqWSpe2_I",
        "outputId": "72b8b883-d721-4dcf-8498-a3b27da1f547"
      },
      "source": [
        "for ep in range(num_episodes): yo yo for you\n",
        "  reward_sum=0\n",
        "  htyuukhj=8\n",
        "  state=env.reset()\n",
        "  done_1=False\n",
        "  while not done_1:\n",
        "\n",
        "    ep=eps_strat(2,start,decay,end,device)\n",
        "    action= ep.get_action(policy,state)\n",
        "    next_state,reward,done_1,info=env.step(action)\n",
        "\n",
        "\n",
        "    if done_1==True:\n",
        "      reward=-10\n",
        "    else:\n",
        "      reward=1\n",
        "    e1=Experience(state,action,next_state,reward,done_1)\n",
        "    #print(type(e1.state))\n",
        "    mem.push(e1)\n",
        "    reward_sum+=reward\n",
        "    state=next_state\n",
        "    #print(reward)\n",
        "  If reward_sum>300\n",
        "  print(ep,reward_sum)\n",
        "\n",
        "  if(mem.can_provide(512)):\n",
        "    states,actions,next_states,rewards,done=mem.sample(512)\n",
        "    target_q=target_net.forward(next_states.float()).detach()\n",
        "    target_q=torch.tensor([max(t) for t in target_q]).to(device)\n",
        "\n",
        "    done=done.int().to(device)\n",
        "\n",
        "    q=rewards+gamma*(target_q*(1-done))\n",
        "    #print(gamma*(target_q*(1-done)))\n",
        "    exp_q=target_net.forward(states.float())\n",
        "    exp_q=torch.tensor([exp_q[i][actions[i]] for i in range(10)],requires_grad=True).to(device)\n",
        "    #loss function\n",
        "    loss=nn.MSELoss()\n",
        "    tr=loss(q,exp_q)\n",
        "    tr.backward()\n",
        "    # optimizer\n",
        "    optimizer= torch.optim.SGD(policy.parameters(),lr=alpha)\n",
        "    optimizer.step()\n",
        "    optimizer.zero_grad()"
      ],
      "execution_count": null,
      "outputs": [
        {
          "output_type": "error",
          "ename": "SyntaxError",
          "evalue": "ignored",
          "traceback": [
            "\u001b[0;36m  File \u001b[0;32m\"<ipython-input-36-4c401b2fd931>\"\u001b[0;36m, line \u001b[0;32m22\u001b[0m\n\u001b[0;31m    If reward_sum>300\u001b[0m\n\u001b[0m                ^\u001b[0m\n\u001b[0;31mSyntaxError\u001b[0m\u001b[0;31m:\u001b[0m invalid syntax\n"
          ]
        }
      ]
    },
    {
      "cell_type": "code",
      "metadata": {
        "id": "lTgsecHt0FjX"
      },
      "source": [
        "!apt-get install -y xvfb python-opengl > /dev/null 2>&1"
      ],
      "execution_count": null,
      "outputs": []
    },
    {
      "cell_type": "code",
      "metadata": {
        "id": "wAGjWUwwesYU"
      },
      "source": [
        "!pip install gym pyvirtualdisplay > /dev/null 2>&1"
      ],
      "execution_count": null,
      "outputs": []
    },
    {
      "cell_type": "code",
      "metadata": {
        "id": "ruEk2esH0JAd"
      },
      "source": [
        "from IPython import display as ipythondisplay"
      ],
      "execution_count": null,
      "outputs": []
    },
    {
      "cell_type": "code",
      "metadata": {
        "colab": {
          "base_uri": "https://localhost:8080/"
        },
        "id": "FMKQHchN0OWj",
        "outputId": "aa2591f6-c44c-49de-a73d-26475ab2785b"
      },
      "source": [
        "from pyvirtualdisplay import Display\n",
        "display = Display(visible=0, size=(400, 300))\n",
        "display.start()"
      ],
      "execution_count": null,
      "outputs": [
        {
          "output_type": "execute_result",
          "data": {
            "text/plain": [
              "<pyvirtualdisplay.display.Display at 0x7fab1d6e81d0>"
            ]
          },
          "metadata": {
            "tags": []
          },
          "execution_count": 76
        }
      ]
    }
  ]
}